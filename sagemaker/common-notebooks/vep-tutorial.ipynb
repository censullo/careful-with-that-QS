{
 "cells": [
  {
   "cell_type": "markdown",
   "metadata": {},
   "source": [
    "# VEP Annotation Example"
   ]
  },
  {
   "cell_type": "markdown",
   "metadata": {},
   "source": [
    "### List EMR Master Nodes\n",
    "\n",
    "`~/SageMaker/bin/list-clusters` will output the IP of each master node in your account and check Livy connectivity."
   ]
  },
  {
   "cell_type": "code",
   "execution_count": null,
   "metadata": {},
   "outputs": [],
   "source": [
    "%%bash\n",
    "~/SageMaker/bin/list-clusters"
   ]
  },
  {
   "cell_type": "markdown",
   "metadata": {},
   "source": [
    "Collect the Cluster Name from the output above.  Replace `<CLUSTER_NAME>` below and run the cell to collect the EMR Master node IP. That IP will be used for the Livy connection and Bokeh plot transfers."
   ]
  },
  {
   "cell_type": "code",
   "execution_count": null,
   "metadata": {},
   "outputs": [],
   "source": [
    "%%bash --out LIVY_ENDPOINT\n",
    "~/SageMaker/bin/list-clusters | grep <CLUSTER_NAME> | awk '{ print $3 }'"
   ]
  },
  {
   "cell_type": "code",
   "execution_count": null,
   "metadata": {},
   "outputs": [],
   "source": [
    "%%local\n",
    "import re\n",
    "\n",
    "LIVY_ENDPOINT = LIVY_ENDPOINT.strip()\n",
    "EMR_MASTER_IP = re.sub('http://([0-9.]+):([0-9]{4})', '\\\\1', LIVY_ENDPOINT)"
   ]
  },
  {
   "cell_type": "markdown",
   "metadata": {},
   "source": [
    "Use the Livy Endpoint above and start your session name `-s`, language `-l python`, the livy endpoint `-u`, and authentication type `-t`."
   ]
  },
  {
   "cell_type": "code",
   "execution_count": null,
   "metadata": {},
   "outputs": [],
   "source": [
    "%reload_ext sparkmagic.magics\n",
    "%spark add -s jsmith -l python -u $LIVY_ENDPOINT -t None"
   ]
  },
  {
   "cell_type": "code",
   "execution_count": null,
   "metadata": {},
   "outputs": [],
   "source": [
    "import hail as hl\n",
    "import hail.expr.aggregators as agg\n",
    "hl.init(sc)"
   ]
  },
  {
   "cell_type": "code",
   "execution_count": null,
   "metadata": {},
   "outputs": [],
   "source": [
    "hl.utils.get_1kg('data/')\n",
    "mt = hl.read_matrix_table('data/1kg.mt')\n",
    "table = (hl.import_table('data/1kg_annotations.txt', impute=True)\n",
    "         .key_by('Sample'))\n",
    "mt = mt.annotate_cols(**table[mt.s])\n",
    "mt = hl.sample_qc(mt)\n",
    "\n",
    "mt.describe()"
   ]
  },
  {
   "cell_type": "markdown",
   "metadata": {},
   "source": [
    "Downsample some for the sake of speed in this example."
   ]
  },
  {
   "cell_type": "code",
   "execution_count": null,
   "metadata": {},
   "outputs": [],
   "source": [
    "mt = mt.annotate_cols(**table[mt.s])\n",
    "mt = hl.sample_qc(mt)\n",
    "mt = mt.sample_rows(p=0.01, seed=421)\n",
    "mt = mt.sample_cols(p=0.1, seed=421)"
   ]
  },
  {
   "cell_type": "markdown",
   "metadata": {},
   "source": [
    "Annotate the MatrixTable with the [vep()](https://hail.is/docs/0.2/methods/genetics.html#hail.methods.vep) method.  Example VEP JSON configurations were loaded into your Hail S3 bucket during the quickstart deployment.   In this example, we'll use GRCh37 with [LOFTEE](https://github.com/konradjk/loftee).\n",
    "\n",
    "Substitute `<HAIL_BUCKET>` with the Hail bucket name you selected during quickstart deployment."
   ]
  },
  {
   "cell_type": "code",
   "execution_count": null,
   "metadata": {},
   "outputs": [],
   "source": [
    "mt = hl.vep(mt, f\"s3://<HAIL_BUCKET>/vep-configuration/vep-configuration-GRCh37.json\")\n",
    "\n",
    "mm = mt.select_rows(**mt['vep'])\n",
    "mm = mm.select_rows('most_severe_consequence')\n",
    "consequence = mm.aggregate_rows(agg.counter(mm.most_severe_consequence))\n",
    "print(f\"missense_variant: {consequence['missense_variant']}\")"
   ]
  },
  {
   "cell_type": "markdown",
   "metadata": {},
   "source": [
    "Remove the Livy notebook session"
   ]
  },
  {
   "cell_type": "code",
   "execution_count": null,
   "metadata": {},
   "outputs": [],
   "source": [
    "%spark cleanup"
   ]
  }
 ],
 "metadata": {
  "file_extension": ".py",
  "kernelspec": {
   "display_name": "Sparkmagic (PySpark)",
   "language": "",
   "name": "pysparkkernel"
  },
  "language_info": {
   "codemirror_mode": {
    "name": "python",
    "version": 3
   },
   "mimetype": "text/x-python",
   "name": "pyspark",
   "pygments_lexer": "python3"
  },
  "mimetype": "text/x-python",
  "name": "python",
  "npconvert_exporter": "python",
  "pygments_lexer": "ipython3",
  "version": 3
 },
 "nbformat": 4,
 "nbformat_minor": 4
}
